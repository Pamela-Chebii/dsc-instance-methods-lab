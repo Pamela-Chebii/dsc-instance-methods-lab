{
 "cells": [
  {
   "cell_type": "markdown",
   "metadata": {},
   "source": [
    "Uing self"
   ]
  },
  {
   "cell_type": "code",
   "execution_count": 1,
   "metadata": {},
   "outputs": [
    {
     "name": "stdout",
     "output_type": "stream",
     "text": [
      "1. {}\n",
      "2. Hi, how are you?\n",
      "3. Yum that was delish!\n",
      "4. {'name': 'Gail', 'age': 29, 'weight': 'None of your business!', 'hungry': False}\n"
     ]
    }
   ],
   "source": [
    "class Person():\n",
    "    \n",
    "    def say_hello(self):\n",
    "        return 'Hi, how are you?'\n",
    "        \n",
    "    def eat_breakfast(self):\n",
    "        self.hungry = False\n",
    "        return 'Yum that was delish!'\n",
    "\n",
    "gail = Person()\n",
    "print('1.', vars(gail))\n",
    "gail.name = 'Gail'\n",
    "gail.age = 29\n",
    "gail.weight = 'None of your business!'\n",
    "print('2.', gail.say_hello())\n",
    "print('3.', gail.eat_breakfast())\n",
    "print('4.', vars(gail))"
   ]
  },
  {
   "cell_type": "markdown",
   "metadata": {},
   "source": [
    "## Operating on Self"
   ]
  },
  {
   "cell_type": "code",
   "execution_count": 6,
   "metadata": {},
   "outputs": [
    {
     "name": "stdout",
     "output_type": "stream",
     "text": [
      "1  Hi, my name is Gail. It's a pleasure to meet you.\n",
      "2  Hi, my name is The snail. It's a pleasure to meet you.\n"
     ]
    }
   ],
   "source": [
    "class Person:\n",
    "\n",
    "    def introduce(self):\n",
    "        return f\"Hi, my name is {self.name}. It's a pleasure to meet you.\"\n",
    "    \n",
    "    def say_hello(self):\n",
    "        return \"Hi, how are you?\"\n",
    "    \n",
    "    def eat_breakfast(self):\n",
    "        self.hungry = False\n",
    "        return \"Yum that was delish!\"\n",
    "    \n",
    "gail = Person()\n",
    "gail.name = 'Gail'\n",
    "the_snail = Person()\n",
    "the_snail.name = \"The snail\"\n",
    "\n",
    "print('1 ', gail.introduce())\n",
    "print('2 ', the_snail.introduce())\n"
   ]
  },
  {
   "cell_type": "code",
   "execution_count": 7,
   "metadata": {},
   "outputs": [
    {
     "data": {
      "text/plain": [
       "\"Hi, my name is The snail! What wildly overcast weather we're having, right?!\""
      ]
     },
     "execution_count": 7,
     "metadata": {},
     "output_type": "execute_result"
    }
   ],
   "source": [
    "def say_hello_and_weather(instance_obj, weather_pattern):\n",
    "    return f\"Hi, my name is {instance_obj.name}! What wildly {weather_pattern} weather we're having, right?!\"\n",
    "\n",
    "say_hello_and_weather(the_snail, 'overcast')"
   ]
  },
  {
   "cell_type": "code",
   "execution_count": 8,
   "metadata": {},
   "outputs": [
    {
     "name": "stdout",
     "output_type": "stream",
     "text": [
      "1.  29\n",
      "2.  Happy Birthday to the Snail (aka ME)! Can't believe I'm 30?!\n",
      "3.  30\n"
     ]
    }
   ],
   "source": [
    "class Person():\n",
    "\n",
    "    def happy_birthday(self):\n",
    "        self.age += 1\n",
    "        return f\"Happy Birthday to {self.name} (aka ME)! Can't believe I'm {self.age}?!\"\n",
    "\n",
    "the_snail = Person()\n",
    "the_snail.name = 'the Snail'\n",
    "the_snail.age = 29\n",
    "print('1. ', the_snail.age)\n",
    "print('2. ', the_snail.happy_birthday())\n",
    "print('3. ', the_snail.age)"
   ]
  },
  {
   "cell_type": "markdown",
   "metadata": {},
   "source": [
    "## Calling Instance Methods on self"
   ]
  },
  {
   "cell_type": "code",
   "execution_count": 9,
   "metadata": {},
   "outputs": [
    {
     "name": "stdout",
     "output_type": "stream",
     "text": [
      "1.  True\n",
      "Hunger is being relieved\n",
      "2.  Wow, that really hit the spot! I am so full, but more importantly, I'm not hangry anymore!\n",
      "3.  False\n",
      "4.  Oh, I don't think I can eat another bite. Thank you, though!\n"
     ]
    }
   ],
   "source": [
    "class Person():\n",
    "\n",
    "    def eat_sandwhich(self):\n",
    "        if (self.hungry):\n",
    "            self.relieve_hunger()\n",
    "            return \"Wow, that really hit the spot! I am so full, but more importantly, I'm not hangry anymore!\"\n",
    "        else:\n",
    "            return \"Oh, I don't think I can eat another bite. Thank you, though!\"\n",
    "    \n",
    "    def relieve_hunger(self):\n",
    "        print(\"Hunger is being relieved\")\n",
    "        self.hungry = False\n",
    "\n",
    "the_snail = Person()\n",
    "the_snail.name = 'the Snail'\n",
    "the_snail.hungry = True\n",
    "print('1. ', the_snail.hungry)\n",
    "print('2. ', the_snail.eat_sandwhich())\n",
    "print('3. ', the_snail.hungry)\n",
    "print('4. ', the_snail.eat_sandwhich())"
   ]
  }
 ],
 "metadata": {
  "kernelspec": {
   "display_name": "learn-env",
   "language": "python",
   "name": "python3"
  },
  "language_info": {
   "codemirror_mode": {
    "name": "ipython",
    "version": 3
   },
   "file_extension": ".py",
   "mimetype": "text/x-python",
   "name": "python",
   "nbconvert_exporter": "python",
   "pygments_lexer": "ipython3",
   "version": "3.8.5"
  }
 },
 "nbformat": 4,
 "nbformat_minor": 2
}
